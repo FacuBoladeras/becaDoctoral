{
 "cells": [
  {
   "cell_type": "code",
   "execution_count": 20,
   "metadata": {},
   "outputs": [
    {
     "data": {
      "text/html": [
       "\n",
       "            <style>\n",
       "                .geemap-dark {\n",
       "                    --jp-widgets-color: white;\n",
       "                    --jp-widgets-label-color: white;\n",
       "                    --jp-ui-font-color1: white;\n",
       "                    --jp-layout-color2: #454545;\n",
       "                    background-color: #383838;\n",
       "                }\n",
       "\n",
       "                .geemap-dark .jupyter-button {\n",
       "                    --jp-layout-color3: #383838;\n",
       "                }\n",
       "\n",
       "                .geemap-colab {\n",
       "                    background-color: var(--colab-primary-surface-color, white);\n",
       "                }\n",
       "\n",
       "                .geemap-colab .jupyter-button {\n",
       "                    --jp-layout-color3: var(--colab-primary-surface-color, white);\n",
       "                }\n",
       "            </style>\n",
       "            "
      ],
      "text/plain": [
       "<IPython.core.display.HTML object>"
      ]
     },
     "metadata": {},
     "output_type": "display_data"
    },
    {
     "data": {
      "text/html": [
       "<p>To authorize access needed by Earth Engine, open the following\n",
       "        URL in a web browser and follow the instructions:</p>\n",
       "        <p><a href=https://code.earthengine.google.com/client-auth?scopes=https%3A//www.googleapis.com/auth/earthengine%20https%3A//www.googleapis.com/auth/devstorage.full_control&request_id=xoOQG_XANy6CbL5K2bLIUOtX1urJGjt9G_s58Vf0nLI&tc=1wXU2g23Elg5Fbc-Bn0NBLBcW6NPgk0__owfkqglDaU&cc=tfgQmroLlk_xJF0gPTot-b17vvMpYGK4DUdWVh2rXvY>https://code.earthengine.google.com/client-auth?scopes=https%3A//www.googleapis.com/auth/earthengine%20https%3A//www.googleapis.com/auth/devstorage.full_control&request_id=xoOQG_XANy6CbL5K2bLIUOtX1urJGjt9G_s58Vf0nLI&tc=1wXU2g23Elg5Fbc-Bn0NBLBcW6NPgk0__owfkqglDaU&cc=tfgQmroLlk_xJF0gPTot-b17vvMpYGK4DUdWVh2rXvY</a></p>\n",
       "        <p>The authorization workflow will generate a code, which you should paste in the box below.</p>\n",
       "        "
      ],
      "text/plain": [
       "<IPython.core.display.HTML object>"
      ]
     },
     "metadata": {},
     "output_type": "display_data"
    },
    {
     "name": "stdout",
     "output_type": "stream",
     "text": [
      "\n",
      "Successfully saved authorization token.\n"
     ]
    }
   ],
   "source": [
    "import ee\n",
    "import geemap\n",
    "import json\n",
    "# import geemap.foliumap as geemap\n",
    "\n",
    "# uncomment to authenticate\n",
    "ee.Authenticate()\n",
    "\n",
    "ee.Initialize()"
   ]
  },
  {
   "cell_type": "code",
   "execution_count": 21,
   "metadata": {},
   "outputs": [
    {
     "data": {
      "text/html": [
       "\n",
       "            <style>\n",
       "                .geemap-dark {\n",
       "                    --jp-widgets-color: white;\n",
       "                    --jp-widgets-label-color: white;\n",
       "                    --jp-ui-font-color1: white;\n",
       "                    --jp-layout-color2: #454545;\n",
       "                    background-color: #383838;\n",
       "                }\n",
       "\n",
       "                .geemap-dark .jupyter-button {\n",
       "                    --jp-layout-color3: #383838;\n",
       "                }\n",
       "\n",
       "                .geemap-colab {\n",
       "                    background-color: var(--colab-primary-surface-color, white);\n",
       "                }\n",
       "\n",
       "                .geemap-colab .jupyter-button {\n",
       "                    --jp-layout-color3: var(--colab-primary-surface-color, white);\n",
       "                }\n",
       "            </style>\n",
       "            "
      ],
      "text/plain": [
       "<IPython.core.display.HTML object>"
      ]
     },
     "metadata": {},
     "output_type": "display_data"
    }
   ],
   "source": [
    "url = 'https://mt1.google.com/vt/lyrs=y&x={x}&y={y}&z={z}'\n",
    "\n",
    "Map = geemap.Map()\n",
    "Map.add_tile_layer(url, name='Google Satellite', attribution='Google')\n",
    "roi = ee.FeatureCollection(\"projects/facub-gee/assets/area_de_estudio\")\n"
   ]
  },
  {
   "cell_type": "code",
   "execution_count": 27,
   "metadata": {},
   "outputs": [
    {
     "data": {
      "text/html": [
       "\n",
       "            <style>\n",
       "                .geemap-dark {\n",
       "                    --jp-widgets-color: white;\n",
       "                    --jp-widgets-label-color: white;\n",
       "                    --jp-ui-font-color1: white;\n",
       "                    --jp-layout-color2: #454545;\n",
       "                    background-color: #383838;\n",
       "                }\n",
       "\n",
       "                .geemap-dark .jupyter-button {\n",
       "                    --jp-layout-color3: #383838;\n",
       "                }\n",
       "\n",
       "                .geemap-colab {\n",
       "                    background-color: var(--colab-primary-surface-color, white);\n",
       "                }\n",
       "\n",
       "                .geemap-colab .jupyter-button {\n",
       "                    --jp-layout-color3: var(--colab-primary-surface-color, white);\n",
       "                }\n",
       "            </style>\n",
       "            "
      ],
      "text/plain": [
       "<IPython.core.display.HTML object>"
      ]
     },
     "metadata": {},
     "output_type": "display_data"
    }
   ],
   "source": [
    "#2016\n",
    "startDate1 = '2016-01-01'\n",
    "endDate1 = '2016-12-31'\n",
    "#2017\n",
    "startDate2 = '2017-01-01'\n",
    "endDate2 = '2017-12-31'\n",
    "#2018\n",
    "startDate3 = '2018-01-01'\n",
    "endDate3 = '2018-12-31'\n",
    "#2019\n",
    "startDate4 = '2019-01-01'\n",
    "endDate4 = '2019-12-31'\n",
    "#2020\n",
    "startDate5 = '2020-01-01'\n",
    "endDate5 = '2020-12-31'\n",
    "#2021\n",
    "startDate6 = '2021-01-01'\n",
    "endDate6 = '2021-12-31'\n",
    "#2022\n",
    "startDate7 = '2022-01-01'\n",
    "endDate7 = '2022-12-31'\n",
    "#2023\n",
    "startDate8 = '2023-01-01'\n",
    "endDate8 = '2023-12-31'\n",
    "\n",
    "\n",
    "def calcular_media(fecha1, fecha2):\n",
    "    \n",
    "    roi = ee.FeatureCollection(\"projects/facub-gee/assets/area_de_estudio\")   \n",
    "    collection = ee.ImageCollection('GOOGLE/DYNAMICWORLD/V1') \\\n",
    "                    .filterDate(fecha1, fecha2) \\\n",
    "                    .filterBounds(roi)\n",
    "    \n",
    "    media_image = collection.mode()\n",
    "\n",
    "    return media_image\n",
    "\n",
    "\n",
    "media2016 = calcular_media(startDate1,endDate1)\n",
    "media2017 = calcular_media(startDate2,endDate2)\n",
    "media2018 = calcular_media(startDate3,endDate3)\n",
    "media2019 = calcular_media(startDate4,endDate4)\n",
    "media2020 = calcular_media(startDate5,endDate5)\n",
    "media2021 = calcular_media(startDate6,endDate6)\n",
    "media2022 = calcular_media(startDate7,endDate7)\n",
    "media2023 = calcular_media(startDate8,endDate8)"
   ]
  },
  {
   "cell_type": "code",
   "execution_count": 28,
   "metadata": {},
   "outputs": [
    {
     "data": {
      "text/html": [
       "\n",
       "            <style>\n",
       "                .geemap-dark {\n",
       "                    --jp-widgets-color: white;\n",
       "                    --jp-widgets-label-color: white;\n",
       "                    --jp-ui-font-color1: white;\n",
       "                    --jp-layout-color2: #454545;\n",
       "                    background-color: #383838;\n",
       "                }\n",
       "\n",
       "                .geemap-dark .jupyter-button {\n",
       "                    --jp-layout-color3: #383838;\n",
       "                }\n",
       "\n",
       "                .geemap-colab {\n",
       "                    background-color: var(--colab-primary-surface-color, white);\n",
       "                }\n",
       "\n",
       "                .geemap-colab .jupyter-button {\n",
       "                    --jp-layout-color3: var(--colab-primary-surface-color, white);\n",
       "                }\n",
       "            </style>\n",
       "            "
      ],
      "text/plain": [
       "<IPython.core.display.HTML object>"
      ]
     },
     "metadata": {},
     "output_type": "display_data"
    },
    {
     "name": "stdout",
     "output_type": "stream",
     "text": [
      "{'type': 'Image', 'bands': [{'id': 'water', 'data_type': {'type': 'PixelType', 'precision': 'double'}, 'crs': 'EPSG:4326', 'crs_transform': [1, 0, 0, 0, 1, 0]}, {'id': 'trees', 'data_type': {'type': 'PixelType', 'precision': 'double'}, 'crs': 'EPSG:4326', 'crs_transform': [1, 0, 0, 0, 1, 0]}, {'id': 'grass', 'data_type': {'type': 'PixelType', 'precision': 'double'}, 'crs': 'EPSG:4326', 'crs_transform': [1, 0, 0, 0, 1, 0]}, {'id': 'flooded_vegetation', 'data_type': {'type': 'PixelType', 'precision': 'double'}, 'crs': 'EPSG:4326', 'crs_transform': [1, 0, 0, 0, 1, 0]}, {'id': 'crops', 'data_type': {'type': 'PixelType', 'precision': 'double'}, 'crs': 'EPSG:4326', 'crs_transform': [1, 0, 0, 0, 1, 0]}, {'id': 'shrub_and_scrub', 'data_type': {'type': 'PixelType', 'precision': 'double'}, 'crs': 'EPSG:4326', 'crs_transform': [1, 0, 0, 0, 1, 0]}, {'id': 'built', 'data_type': {'type': 'PixelType', 'precision': 'double'}, 'crs': 'EPSG:4326', 'crs_transform': [1, 0, 0, 0, 1, 0]}, {'id': 'bare', 'data_type': {'type': 'PixelType', 'precision': 'double'}, 'crs': 'EPSG:4326', 'crs_transform': [1, 0, 0, 0, 1, 0]}, {'id': 'snow_and_ice', 'data_type': {'type': 'PixelType', 'precision': 'double'}, 'crs': 'EPSG:4326', 'crs_transform': [1, 0, 0, 0, 1, 0]}, {'id': 'label', 'data_type': {'type': 'PixelType', 'precision': 'int', 'min': 0, 'max': 255}, 'crs': 'EPSG:4326', 'crs_transform': [1, 0, 0, 0, 1, 0]}]}\n"
     ]
    }
   ],
   "source": [
    "print(media2016.getInfo())"
   ]
  },
  {
   "cell_type": "code",
   "execution_count": 29,
   "metadata": {},
   "outputs": [
    {
     "data": {
      "text/html": [
       "\n",
       "            <style>\n",
       "                .geemap-dark {\n",
       "                    --jp-widgets-color: white;\n",
       "                    --jp-widgets-label-color: white;\n",
       "                    --jp-ui-font-color1: white;\n",
       "                    --jp-layout-color2: #454545;\n",
       "                    background-color: #383838;\n",
       "                }\n",
       "\n",
       "                .geemap-dark .jupyter-button {\n",
       "                    --jp-layout-color3: #383838;\n",
       "                }\n",
       "\n",
       "                .geemap-colab {\n",
       "                    background-color: var(--colab-primary-surface-color, white);\n",
       "                }\n",
       "\n",
       "                .geemap-colab .jupyter-button {\n",
       "                    --jp-layout-color3: var(--colab-primary-surface-color, white);\n",
       "                }\n",
       "            </style>\n",
       "            "
      ],
      "text/plain": [
       "<IPython.core.display.HTML object>"
      ]
     },
     "metadata": {},
     "output_type": "display_data"
    }
   ],
   "source": [
    "def simplificar_imagen(image):\n",
    "    # Seleccionar la banda 'label'\n",
    "    label_band = image.select('label')\n",
    "    \n",
    "    # Redondear los valores de la banda 'label' al entero más cercano\n",
    "    simplified_label = label_band.round()\n",
    "\n",
    "    # Devolver la imagen con una sola banda 'label' y valores enteros\n",
    "    return simplified_label\n",
    "\n",
    "cobertura2016 = simplificar_imagen(media2016)\n",
    "cobertura2017 = simplificar_imagen(media2017)\n",
    "cobertura2018 = simplificar_imagen(media2018)\n",
    "cobertura2019 = simplificar_imagen(media2019)\n",
    "cobertura2020 = simplificar_imagen(media2020)\n",
    "cobertura2021 = simplificar_imagen(media2021)\n",
    "cobertura2022 = simplificar_imagen(media2022)\n",
    "cobertura2023 = simplificar_imagen(media2023)\n"
   ]
  },
  {
   "cell_type": "code",
   "execution_count": 33,
   "metadata": {},
   "outputs": [
    {
     "data": {
      "text/html": [
       "\n",
       "            <style>\n",
       "                .geemap-dark {\n",
       "                    --jp-widgets-color: white;\n",
       "                    --jp-widgets-label-color: white;\n",
       "                    --jp-ui-font-color1: white;\n",
       "                    --jp-layout-color2: #454545;\n",
       "                    background-color: #383838;\n",
       "                }\n",
       "\n",
       "                .geemap-dark .jupyter-button {\n",
       "                    --jp-layout-color3: #383838;\n",
       "                }\n",
       "\n",
       "                .geemap-colab {\n",
       "                    background-color: var(--colab-primary-surface-color, white);\n",
       "                }\n",
       "\n",
       "                .geemap-colab .jupyter-button {\n",
       "                    --jp-layout-color3: var(--colab-primary-surface-color, white);\n",
       "                }\n",
       "            </style>\n",
       "            "
      ],
      "text/plain": [
       "<IPython.core.display.HTML object>"
      ]
     },
     "metadata": {},
     "output_type": "display_data"
    },
    {
     "name": "stdout",
     "output_type": "stream",
     "text": [
      "Exportando cobertura2016 a Google Drive...\n",
      "Exportando cobertura2017 a Google Drive...\n",
      "Exportando cobertura2018 a Google Drive...\n",
      "Exportando cobertura2019 a Google Drive...\n",
      "Exportando cobertura2020 a Google Drive...\n",
      "Exportando cobertura2021 a Google Drive...\n",
      "Exportando cobertura2022 a Google Drive...\n",
      "Exportando cobertura2023 a Google Drive...\n"
     ]
    }
   ],
   "source": [
    "def exportar_media_a_drive(media_image, nombre_exportacion):\n",
    "    roi = ee.FeatureCollection(\"projects/facub-gee/assets/area_de_estudio\")\n",
    "    # Definir parámetros de exportación\n",
    "    export_params = {\n",
    "        'image': media_image,\n",
    "        'description': nombre_exportacion,\n",
    "        'folder': 'dinamicWorld',  # Cambiar al nombre de tu carpeta en Google Drive\n",
    "        'region': roi.geometry().bounds(),  # Definir la región de exportación\n",
    "        'scale': 30,  # Escala en metros\n",
    "        'crs': 'EPSG:4326'  # Sistema de referencia espacial\n",
    "    }\n",
    "    \n",
    "    # Iniciar la exportación\n",
    "    export_task = ee.batch.Export.image.toDrive(**export_params)\n",
    "    export_task.start()\n",
    "    print(f'Exportando {nombre_exportacion} a Google Drive...')\n",
    "    \n",
    "# Exportar cada imagen de media a Google Drive\n",
    "exportar_media_a_drive(cobertura2016, 'cobertura2016')\n",
    "exportar_media_a_drive(cobertura2017, 'cobertura2017')\n",
    "exportar_media_a_drive(cobertura2018, 'cobertura2018')\n",
    "exportar_media_a_drive(cobertura2019, 'cobertura2019')\n",
    "exportar_media_a_drive(cobertura2020, 'cobertura2020')\n",
    "exportar_media_a_drive(cobertura2021, 'cobertura2021')\n",
    "exportar_media_a_drive(cobertura2022, 'cobertura2022')\n",
    "exportar_media_a_drive(cobertura2023, 'cobertura2023')"
   ]
  },
  {
   "cell_type": "code",
   "execution_count": null,
   "metadata": {},
   "outputs": [],
   "source": []
  },
  {
   "cell_type": "code",
   "execution_count": 31,
   "metadata": {},
   "outputs": [
    {
     "data": {
      "text/html": [
       "\n",
       "            <style>\n",
       "                .geemap-dark {\n",
       "                    --jp-widgets-color: white;\n",
       "                    --jp-widgets-label-color: white;\n",
       "                    --jp-ui-font-color1: white;\n",
       "                    --jp-layout-color2: #454545;\n",
       "                    background-color: #383838;\n",
       "                }\n",
       "\n",
       "                .geemap-dark .jupyter-button {\n",
       "                    --jp-layout-color3: #383838;\n",
       "                }\n",
       "\n",
       "                .geemap-colab {\n",
       "                    background-color: var(--colab-primary-surface-color, white);\n",
       "                }\n",
       "\n",
       "                .geemap-colab .jupyter-button {\n",
       "                    --jp-layout-color3: var(--colab-primary-surface-color, white);\n",
       "                }\n",
       "            </style>\n",
       "            "
      ],
      "text/plain": [
       "<IPython.core.display.HTML object>"
      ]
     },
     "metadata": {},
     "output_type": "display_data"
    }
   ],
   "source": [
    "Map.centerObject(roi, 10)\n",
    "# Map.addLayer(media2016.clip(roi))\n",
    "# Map.addLayer(reclasificada,{}, 'Imagen Reclasificada')"
   ]
  },
  {
   "cell_type": "code",
   "execution_count": 11,
   "metadata": {},
   "outputs": [
    {
     "data": {
      "text/html": [
       "\n",
       "            <style>\n",
       "                .geemap-dark {\n",
       "                    --jp-widgets-color: white;\n",
       "                    --jp-widgets-label-color: white;\n",
       "                    --jp-ui-font-color1: white;\n",
       "                    --jp-layout-color2: #454545;\n",
       "                    background-color: #383838;\n",
       "                }\n",
       "\n",
       "                .geemap-dark .jupyter-button {\n",
       "                    --jp-layout-color3: #383838;\n",
       "                }\n",
       "\n",
       "                .geemap-colab {\n",
       "                    background-color: var(--colab-primary-surface-color, white);\n",
       "                }\n",
       "\n",
       "                .geemap-colab .jupyter-button {\n",
       "                    --jp-layout-color3: var(--colab-primary-surface-color, white);\n",
       "                }\n",
       "            </style>\n",
       "            "
      ],
      "text/plain": [
       "<IPython.core.display.HTML object>"
      ]
     },
     "metadata": {},
     "output_type": "display_data"
    },
    {
     "data": {
      "application/vnd.jupyter.widget-view+json": {
       "model_id": "cdc9dc66793344308146664555b0a999",
       "version_major": 2,
       "version_minor": 0
      },
      "text/plain": [
       "Map(bottom=2487718.0, center=[-32.11390975814762, -60.24605443522798], controls=(WidgetControl(options=['posit…"
      ]
     },
     "execution_count": 11,
     "metadata": {},
     "output_type": "execute_result"
    }
   ],
   "source": [
    "palette = [\n",
    "    '419bdf', '397d49', '88b053', '7a87c6', 'e49635', 'dfc35a', 'c4281b',\n",
    "    'a59b8f', 'b39fe1'\n",
    "]\n",
    "\n",
    "vis_params = {\n",
    "    'min': 0,\n",
    "    'max': 7,\n",
    "    'palette': palette\n",
    "}\n",
    "\n",
    "Map.centerObject(roi, 10)\n",
    "# Map.addLayer(media2016.clip(roi))\n",
    "Map.addLayer(cobertura2023.clip(roi),vis_params, 'Imagen Reclasificada')\n",
    "\n",
    "# Muestra el mapa\n",
    "Map\n",
    "\n"
   ]
  }
 ],
 "metadata": {
  "kernelspec": {
   "display_name": "gee",
   "language": "python",
   "name": "python3"
  },
  "language_info": {
   "codemirror_mode": {
    "name": "ipython",
    "version": 3
   },
   "file_extension": ".py",
   "mimetype": "text/x-python",
   "name": "python",
   "nbconvert_exporter": "python",
   "pygments_lexer": "ipython3",
   "version": "3.11.4"
  }
 },
 "nbformat": 4,
 "nbformat_minor": 2
}
